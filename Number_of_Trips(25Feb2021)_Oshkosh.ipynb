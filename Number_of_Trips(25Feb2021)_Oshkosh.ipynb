{
 "cells": [
  {
   "cell_type": "code",
   "execution_count": 1,
   "metadata": {},
   "outputs": [],
   "source": [
    "import gzip\n",
    "import jsonlines\n",
    "import pandas as pd\n",
    "import numpy as np\n",
    "import json\n",
    "import os.path\n",
    "import copy"
   ]
  },
  {
   "cell_type": "code",
   "execution_count": 2,
   "metadata": {},
   "outputs": [
    {
     "name": "stdout",
     "output_type": "stream",
     "text": [
      "Total car trips: 1276602\n",
      "Total bus trips: 0\n",
      "Total rail trips: 0\n",
      "Total walk trips: 173539\n",
      "Total PT trips: 3221\n"
     ]
    }
   ],
   "source": [
    "read_gzip = './Base_Case/output_legs.csv.gz'\n",
    "dflegs = pd.read_csv(read_gzip, compression='gzip', header=0, sep=';', quotechar='\"', error_bad_lines=False,low_memory=False)\n",
    "#### mode = ['car', 'walk', 'bus', 'rail', 'pt']\n",
    "ncar = dflegs[dflegs[\"mode\"]==\"car\"][\"mode\"].count()\n",
    "nbus = dflegs[dflegs[\"mode\"]==\"bus\"][\"mode\"].count()\n",
    "nrail = dflegs[dflegs[\"mode\"]==\"rail\"][\"mode\"].count()\n",
    "nwalk = dflegs[dflegs[\"mode\"]==\"walk\"][\"mode\"].count()\n",
    "npt = dflegs[dflegs[\"mode\"]==\"pt\"][\"mode\"].count()\n",
    "dfBase = dflegs.copy()\n",
    "# print the counts\n",
    "print(\"Total car trips: \" + str(ncar))\n",
    "print(\"Total bus trips: \" + str(nbus))\n",
    "print(\"Total rail trips: \" + str(nrail))\n",
    "print(\"Total walk trips: \" + str(nwalk))\n",
    "print(\"Total PT trips: \" + str(npt))\n",
    "\n",
    "#####\n",
    "read_gzip = './Base_Case/output_persons.csv.gz'\n",
    "dfpersons = pd.read_csv(read_gzip, compression='gzip', header=0, sep=';', quotechar='\"', error_bad_lines=False,low_memory=False)\n",
    "#### mode = ['car', 'walk', 'bus', 'rail', 'pt']\n",
    "# dfpersons.count()\n",
    "dfpersons_base = dfpersons.copy()"
   ]
  },
  {
   "cell_type": "code",
   "execution_count": 4,
   "metadata": {},
   "outputs": [
    {
     "name": "stdout",
     "output_type": "stream",
     "text": [
      "Start time: Thu Feb 25 12:26:47 2021\n",
      "Execution End Time : Thu Feb 25 12:36:41 2021\n"
     ]
    }
   ],
   "source": [
    "import time\n",
    "\n",
    "dfBase[\"trav_time\"] = pd.to_timedelta(dfBase[\"trav_time\"], unit='min',errors=\"coerce\")\n",
    "dfBase[\"wait_time\"] = pd.to_timedelta(dfBase[\"wait_time\"], unit='min',errors=\"coerce\")\n",
    "start = time.ctime(time.time())\n",
    "print(\"Start time: \" + str(start))\n",
    "dfBase_agg = dfBase.groupby(\"trip_id\").agg({\n",
    "                                            \"person\":\"first\",\n",
    "                                            \"dep_time\":\"first\",\n",
    "                                            \"trav_time\":\"sum\",\n",
    "                                            \"wait_time\":\"sum\",\n",
    "                                            \"distance\":\"sum\",\n",
    "                                            \"mode\":(','.join),\n",
    "                                            \"start_link\":\"first\",\n",
    "                                            \"end_link\":\"first\"}).copy()\n",
    "end = time.ctime(time.time())\n",
    "print(\"Execution End Time : \" + str(end))"
   ]
  },
  {
   "cell_type": "code",
   "execution_count": 5,
   "metadata": {},
   "outputs": [
    {
     "name": "stdout",
     "output_type": "stream",
     "text": [
      "Total car trips: 1276822\n",
      "Total bus trips: 0\n",
      "Total rail trips: 0\n",
      "Total walk trips: 173913\n",
      "Total PT trips: 3186\n"
     ]
    }
   ],
   "source": [
    "read_gzip = './Low_Income/output_legs.csv.gz'\n",
    "dflegs = pd.read_csv(read_gzip, compression='gzip', header=0, sep=';', quotechar='\"', error_bad_lines=False,low_memory=False)\n",
    "#### mode = ['car', 'walk', 'bus', 'rail', 'pt']\n",
    "ncar = dflegs[dflegs[\"mode\"]==\"car\"][\"mode\"].count()\n",
    "nbus = dflegs[dflegs[\"mode\"]==\"bus\"][\"mode\"].count()\n",
    "nrail = dflegs[dflegs[\"mode\"]==\"rail\"][\"mode\"].count()\n",
    "nwalk = dflegs[dflegs[\"mode\"]==\"walk\"][\"mode\"].count()\n",
    "npt = dflegs[dflegs[\"mode\"]==\"pt\"][\"mode\"].count()\n",
    "dfLI = dflegs.copy()\n",
    "# print the counts\n",
    "print(\"Total car trips: \" + str(ncar))\n",
    "print(\"Total bus trips: \" + str(nbus))\n",
    "print(\"Total rail trips: \" + str(nrail))\n",
    "print(\"Total walk trips: \" + str(nwalk))\n",
    "print(\"Total PT trips: \" + str(npt))\n",
    "\n",
    "#####\n",
    "read_gzip = './Low_Income/output_persons.csv.gz'\n",
    "dfpersons = pd.read_csv(read_gzip, compression='gzip', header=0, sep=';', quotechar='\"', error_bad_lines=False,low_memory=False)\n",
    "#### mode = ['car', 'walk', 'bus', 'rail', 'pt']\n",
    "# dfpersons.count()\n",
    "dfpersons_LI = dfpersons.copy()"
   ]
  },
  {
   "cell_type": "code",
   "execution_count": 7,
   "metadata": {},
   "outputs": [
    {
     "name": "stdout",
     "output_type": "stream",
     "text": [
      "Start time: Thu Feb 25 12:39:32 2021\n",
      "Execution End Time : Thu Feb 25 12:49:23 2021\n"
     ]
    }
   ],
   "source": [
    "import time\n",
    "\n",
    "dfLI[\"trav_time\"] = pd.to_timedelta(dfLI[\"trav_time\"], unit='min',errors=\"coerce\")\n",
    "dfLI[\"wait_time\"] = pd.to_timedelta(dfLI[\"wait_time\"], unit='min',errors=\"coerce\")\n",
    "start = time.ctime(time.time())\n",
    "print(\"Start time: \" + str(start))\n",
    "dfLI_agg = dfLI.groupby(\"trip_id\").agg({\n",
    "                                            \"person\":\"first\",\n",
    "                                            \"dep_time\":\"first\",\n",
    "                                            \"trav_time\":\"sum\",\n",
    "                                            \"wait_time\":\"sum\",\n",
    "                                            \"distance\":\"sum\",\n",
    "                                            \"mode\":(','.join),\n",
    "                                            \"start_link\":\"first\",\n",
    "                                            \"end_link\":\"first\"}).copy()\n",
    "end = time.ctime(time.time())\n",
    "print(\"Execution End Time : \" + str(end))"
   ]
  },
  {
   "cell_type": "code",
   "execution_count": 8,
   "metadata": {},
   "outputs": [
    {
     "name": "stdout",
     "output_type": "stream",
     "text": [
      "Total car trips: 1276194\n",
      "Total bus trips: 0\n",
      "Total rail trips: 0\n",
      "Total walk trips: 174915\n",
      "Total PT trips: 4176\n"
     ]
    }
   ],
   "source": [
    "read_gzip = './HiPTRdrshp/output_legs.csv.gz'\n",
    "dflegs = pd.read_csv(read_gzip, compression='gzip', header=0, sep=';', quotechar='\"', error_bad_lines=False,low_memory=False)\n",
    "#### mode = ['car', 'walk', 'bus', 'rail', 'pt']\n",
    "ncar = dflegs[dflegs[\"mode\"]==\"car\"][\"mode\"].count()\n",
    "nbus = dflegs[dflegs[\"mode\"]==\"bus\"][\"mode\"].count()\n",
    "nrail = dflegs[dflegs[\"mode\"]==\"rail\"][\"mode\"].count()\n",
    "nwalk = dflegs[dflegs[\"mode\"]==\"walk\"][\"mode\"].count()\n",
    "npt = dflegs[dflegs[\"mode\"]==\"pt\"][\"mode\"].count()\n",
    "dfHiPT = dflegs.copy()\n",
    "# print the counts\n",
    "print(\"Total car trips: \" + str(ncar))\n",
    "print(\"Total bus trips: \" + str(nbus))\n",
    "print(\"Total rail trips: \" + str(nrail))\n",
    "print(\"Total walk trips: \" + str(nwalk))\n",
    "print(\"Total PT trips: \" + str(npt))\n",
    "\n",
    "#####\n",
    "read_gzip = './HiPTRdrshp/output_persons.csv.gz'\n",
    "dfpersons = pd.read_csv(read_gzip, compression='gzip', header=0, sep=';', quotechar='\"', error_bad_lines=False,low_memory=False)\n",
    "#### mode = ['car', 'walk', 'bus', 'rail', 'pt']\n",
    "# dfpersons.count()\n",
    "dfpersons_HiPT = dfpersons.copy()"
   ]
  },
  {
   "cell_type": "code",
   "execution_count": 9,
   "metadata": {},
   "outputs": [
    {
     "name": "stdout",
     "output_type": "stream",
     "text": [
      "Start time: Thu Feb 25 12:49:39 2021\n",
      "Execution End Time : Thu Feb 25 12:59:22 2021\n"
     ]
    }
   ],
   "source": [
    "import time\n",
    "\n",
    "dfHiPT[\"trav_time\"] = pd.to_timedelta(dfHiPT[\"trav_time\"], unit='min',errors=\"coerce\")\n",
    "dfHiPT[\"wait_time\"] = pd.to_timedelta(dfHiPT[\"wait_time\"], unit='min',errors=\"coerce\")\n",
    "start = time.ctime(time.time())\n",
    "print(\"Start time: \" + str(start))\n",
    "dfHiPT_agg = dfHiPT.groupby(\"trip_id\").agg({\n",
    "                                            \"person\":\"first\",\n",
    "                                            \"dep_time\":\"first\",\n",
    "                                            \"trav_time\":\"sum\",\n",
    "                                            \"wait_time\":\"sum\",\n",
    "                                            \"distance\":\"sum\",\n",
    "                                            \"mode\":(','.join),\n",
    "                                            \"start_link\":\"first\",\n",
    "                                            \"end_link\":\"first\"}).copy()\n",
    "end = time.ctime(time.time())\n",
    "print(\"Execution End Time : \" + str(end))"
   ]
  },
  {
   "cell_type": "code",
   "execution_count": 10,
   "metadata": {},
   "outputs": [
    {
     "name": "stdout",
     "output_type": "stream",
     "text": [
      "Total car trips: 1276059\n",
      "Total bus trips: 0\n",
      "Total rail trips: 0\n",
      "Total walk trips: 175173\n",
      "Total PT trips: 4205\n"
     ]
    }
   ],
   "source": [
    "read_gzip = './HiPTRdrshp_buslane/output_legs.csv.gz'\n",
    "dflegs = pd.read_csv(read_gzip, compression='gzip', header=0, sep=';', quotechar='\"', error_bad_lines=False,low_memory=False)\n",
    "#### mode = ['car', 'walk', 'bus', 'rail', 'pt']\n",
    "ncar = dflegs[dflegs[\"mode\"]==\"car\"][\"mode\"].count()\n",
    "nbus = dflegs[dflegs[\"mode\"]==\"bus\"][\"mode\"].count()\n",
    "nrail = dflegs[dflegs[\"mode\"]==\"rail\"][\"mode\"].count()\n",
    "nwalk = dflegs[dflegs[\"mode\"]==\"walk\"][\"mode\"].count()\n",
    "npt = dflegs[dflegs[\"mode\"]==\"pt\"][\"mode\"].count()\n",
    "dfHiPTBus = dflegs.copy()\n",
    "# print the counts\n",
    "print(\"Total car trips: \" + str(ncar))\n",
    "print(\"Total bus trips: \" + str(nbus))\n",
    "print(\"Total rail trips: \" + str(nrail))\n",
    "print(\"Total walk trips: \" + str(nwalk))\n",
    "print(\"Total PT trips: \" + str(npt))\n",
    "\n",
    "#####\n",
    "read_gzip = './HiPTRdrshp_buslane/output_persons.csv.gz'\n",
    "dfpersons = pd.read_csv(read_gzip, compression='gzip', header=0, sep=';', quotechar='\"', error_bad_lines=False,low_memory=False)\n",
    "#### mode = ['car', 'walk', 'bus', 'rail', 'pt']\n",
    "# dfpersons.count()\n",
    "dfpersons_HiPTBus = dfpersons.copy()"
   ]
  },
  {
   "cell_type": "code",
   "execution_count": 11,
   "metadata": {},
   "outputs": [
    {
     "name": "stdout",
     "output_type": "stream",
     "text": [
      "Start time: Thu Feb 25 12:59:37 2021\n",
      "Execution End Time : Thu Feb 25 13:09:49 2021\n"
     ]
    }
   ],
   "source": [
    "import time\n",
    "\n",
    "dfHiPTBus[\"trav_time\"] = pd.to_timedelta(dfHiPTBus[\"trav_time\"], unit='min',errors=\"coerce\")\n",
    "dfHiPTBus[\"wait_time\"] = pd.to_timedelta(dfHiPTBus[\"wait_time\"], unit='min',errors=\"coerce\")\n",
    "start = time.ctime(time.time())\n",
    "print(\"Start time: \" + str(start))\n",
    "dfHiPTBus_agg = dfHiPTBus.groupby(\"trip_id\").agg({\n",
    "                                            \"person\":\"first\",\n",
    "                                            \"dep_time\":\"first\",\n",
    "                                            \"trav_time\":\"sum\",\n",
    "                                            \"wait_time\":\"sum\",\n",
    "                                            \"distance\":\"sum\",\n",
    "                                            \"mode\":(','.join),\n",
    "                                            \"start_link\":\"first\",\n",
    "                                            \"end_link\":\"first\"}).copy()\n",
    "end = time.ctime(time.time())\n",
    "print(\"Execution End Time : \" + str(end))"
   ]
  },
  {
   "cell_type": "code",
   "execution_count": null,
   "metadata": {},
   "outputs": [],
   "source": []
  },
  {
   "cell_type": "code",
   "execution_count": 12,
   "metadata": {},
   "outputs": [],
   "source": [
    "dfBaseagg = dfBase_agg.copy()\n",
    "dfLIagg = dfLI_agg.copy()\n",
    "dfHiPTagg = dfHiPT_agg.copy()\n",
    "dfHiPTBusagg = dfHiPTBus_agg.copy()"
   ]
  },
  {
   "cell_type": "code",
   "execution_count": 13,
   "metadata": {},
   "outputs": [],
   "source": [
    "dfBaseagg = dfBase_agg.copy()\n",
    "dfBaseagg = dfBaseagg.reset_index()\n",
    "dfBaseagg['mode'] = np.where(dfBaseagg['mode'].str.contains(\"pt\"),\"bus\",dfBaseagg['mode'])\n",
    "dfBaseagg['mode'] = np.where(dfBaseagg['mode'].str.contains(\"walk\"),\"walk\",dfBaseagg['mode'])\n",
    "dfBaseagg['mode'] = np.where(dfBaseagg['mode'].str.contains(\"car\"),\"car\",dfBaseagg['mode'])"
   ]
  },
  {
   "cell_type": "code",
   "execution_count": 14,
   "metadata": {},
   "outputs": [],
   "source": [
    "dfLIagg = dfLI_agg.copy()\n",
    "dfLIagg = dfLIagg.reset_index()\n",
    "dfLIagg['mode'] = np.where(dfLIagg['mode'].str.contains(\"pt\"),\"bus\",dfLIagg['mode'])\n",
    "dfLIagg['mode'] = np.where(dfLIagg['mode'].str.contains(\"walk\"),\"walk\",dfLIagg['mode'])\n",
    "dfLIagg['mode'] = np.where(dfLIagg['mode'].str.contains(\"car\"),\"car\",dfLIagg['mode'])"
   ]
  },
  {
   "cell_type": "code",
   "execution_count": 15,
   "metadata": {},
   "outputs": [],
   "source": [
    "dfHiPTagg = dfHiPT_agg.copy()\n",
    "dfHiPTagg = dfHiPTagg.reset_index()\n",
    "dfHiPTagg['mode'] = np.where(dfHiPTagg['mode'].str.contains(\"pt\"),\"bus\",dfHiPTagg['mode'])\n",
    "dfHiPTagg['mode'] = np.where(dfHiPTagg['mode'].str.contains(\"walk\"),\"walk\",dfHiPTagg['mode'])\n",
    "dfHiPTagg['mode'] = np.where(dfHiPTagg['mode'].str.contains(\"car\"),\"car\",dfHiPTagg['mode'])"
   ]
  },
  {
   "cell_type": "code",
   "execution_count": 16,
   "metadata": {},
   "outputs": [],
   "source": [
    "dfHiPTBusagg = dfHiPTBus_agg.copy()\n",
    "dfHiPTBusagg = dfHiPTBusagg.reset_index()\n",
    "dfHiPTBusagg['mode'] = np.where(dfHiPTBusagg['mode'].str.contains(\"pt\"),\"bus\",dfHiPTBusagg['mode'])\n",
    "dfHiPTBusagg['mode'] = np.where(dfHiPTBusagg['mode'].str.contains(\"walk\"),\"walk\",dfHiPTBusagg['mode'])\n",
    "dfHiPTBusagg['mode'] = np.where(dfHiPTBusagg['mode'].str.contains(\"car\"),\"car\",dfHiPTBusagg['mode'])"
   ]
  },
  {
   "cell_type": "code",
   "execution_count": null,
   "metadata": {},
   "outputs": [],
   "source": []
  },
  {
   "cell_type": "code",
   "execution_count": 18,
   "metadata": {},
   "outputs": [],
   "source": [
    "\"\"\"\n",
    "    Read the household file i.e. households.csv.gz\n",
    "    check the household_income<=$20,000, create a new dictionary variable storing this information\n",
    "\"\"\"\n",
    "def getHHInc(df):\n",
    "    read_gzip = r\"households.csv.gz\"\n",
    "    dfHH = pd.read_csv(read_gzip, compression='gzip', header=0, sep=',', quotechar='\"', error_bad_lines=False,low_memory=False)\n",
    "    dfHH.loc[dfHH['household_income'] <= 20000, 'LoInc'] = 1\n",
    "    dfHH['LoInc']=dfHH['LoInc'].fillna(0)\n",
    "    # create a dictonary list\n",
    "    LoIncHH_dict = dict(zip(dfHH['hh_id'], dfHH['LoInc']))\n",
    "    # create HH column\n",
    "    df[\"LoInc\"] = df[\"person\"].str.slice(0,-2)\n",
    "    # Remap the values of the dataframe (\"Yes\"=1 & \"No\"=0)    \n",
    "    df[\"LoInc\"]= df[\"LoInc\"].map(LoIncHH_dict)\n",
    "    return df\n",
    "\n",
    "# get the revised dataframe\n",
    "df1=dfBaseagg.reset_index()[[\"person\",\"trip_id\",\"mode\"]]\n",
    "df1[\"Total_Trips\"]=1\n",
    "df1 = getHHInc(df1)\n",
    "\n",
    "df2=dfLIagg.reset_index()[[\"person\",\"trip_id\",\"mode\"]]\n",
    "df2[\"Total_Trips\"]=1\n",
    "df2 = getHHInc(df2)\n",
    "\n",
    "df3=dfHiPTagg.reset_index()[[\"person\",\"trip_id\",\"mode\"]]\n",
    "df3[\"Total_Trips\"]=1\n",
    "df3 = getHHInc(df3)\n",
    "\n",
    "df4=dfHiPTBusagg.reset_index()[[\"person\",\"trip_id\",\"mode\"]]\n",
    "df4[\"Total_Trips\"]=1\n",
    "df4 = getHHInc(df4)"
   ]
  },
  {
   "cell_type": "code",
   "execution_count": 19,
   "metadata": {},
   "outputs": [
    {
     "data": {
      "text/html": [
       "<div>\n",
       "<style scoped>\n",
       "    .dataframe tbody tr th:only-of-type {\n",
       "        vertical-align: middle;\n",
       "    }\n",
       "\n",
       "    .dataframe tbody tr th {\n",
       "        vertical-align: top;\n",
       "    }\n",
       "\n",
       "    .dataframe thead th {\n",
       "        text-align: right;\n",
       "    }\n",
       "</style>\n",
       "<table border=\"1\" class=\"dataframe\">\n",
       "  <thead>\n",
       "    <tr style=\"text-align: right;\">\n",
       "      <th>Total_Trips</th>\n",
       "      <th>1</th>\n",
       "    </tr>\n",
       "    <tr>\n",
       "      <th>mode</th>\n",
       "      <th></th>\n",
       "    </tr>\n",
       "  </thead>\n",
       "  <tbody>\n",
       "    <tr>\n",
       "      <th>bus</th>\n",
       "      <td>3182</td>\n",
       "    </tr>\n",
       "    <tr>\n",
       "      <th>car</th>\n",
       "      <td>1276602</td>\n",
       "    </tr>\n",
       "    <tr>\n",
       "      <th>walk</th>\n",
       "      <td>167142</td>\n",
       "    </tr>\n",
       "  </tbody>\n",
       "</table>\n",
       "</div>"
      ],
      "text/plain": [
       "Total_Trips        1\n",
       "mode                \n",
       "bus             3182\n",
       "car          1276602\n",
       "walk          167142"
      ]
     },
     "execution_count": 19,
     "metadata": {},
     "output_type": "execute_result"
    }
   ],
   "source": [
    "pd.crosstab(df1[\"mode\"], df1[\"Total_Trips\"])"
   ]
  },
  {
   "cell_type": "code",
   "execution_count": 20,
   "metadata": {},
   "outputs": [
    {
     "data": {
      "text/html": [
       "<div>\n",
       "<style scoped>\n",
       "    .dataframe tbody tr th:only-of-type {\n",
       "        vertical-align: middle;\n",
       "    }\n",
       "\n",
       "    .dataframe tbody tr th {\n",
       "        vertical-align: top;\n",
       "    }\n",
       "\n",
       "    .dataframe thead th {\n",
       "        text-align: right;\n",
       "    }\n",
       "</style>\n",
       "<table border=\"1\" class=\"dataframe\">\n",
       "  <thead>\n",
       "    <tr style=\"text-align: right;\">\n",
       "      <th>LoInc</th>\n",
       "      <th>0.0</th>\n",
       "      <th>1.0</th>\n",
       "    </tr>\n",
       "    <tr>\n",
       "      <th>mode</th>\n",
       "      <th></th>\n",
       "      <th></th>\n",
       "    </tr>\n",
       "  </thead>\n",
       "  <tbody>\n",
       "    <tr>\n",
       "      <th>bus</th>\n",
       "      <td>2728</td>\n",
       "      <td>454</td>\n",
       "    </tr>\n",
       "    <tr>\n",
       "      <th>car</th>\n",
       "      <td>1175035</td>\n",
       "      <td>100944</td>\n",
       "    </tr>\n",
       "    <tr>\n",
       "      <th>walk</th>\n",
       "      <td>146968</td>\n",
       "      <td>20148</td>\n",
       "    </tr>\n",
       "  </tbody>\n",
       "</table>\n",
       "</div>"
      ],
      "text/plain": [
       "LoInc      0.0     1.0\n",
       "mode                  \n",
       "bus       2728     454\n",
       "car    1175035  100944\n",
       "walk    146968   20148"
      ]
     },
     "execution_count": 20,
     "metadata": {},
     "output_type": "execute_result"
    }
   ],
   "source": [
    "pd.crosstab(df1[\"mode\"], df1[\"LoInc\"])"
   ]
  },
  {
   "cell_type": "code",
   "execution_count": 21,
   "metadata": {},
   "outputs": [
    {
     "data": {
      "text/html": [
       "<div>\n",
       "<style scoped>\n",
       "    .dataframe tbody tr th:only-of-type {\n",
       "        vertical-align: middle;\n",
       "    }\n",
       "\n",
       "    .dataframe tbody tr th {\n",
       "        vertical-align: top;\n",
       "    }\n",
       "\n",
       "    .dataframe thead th {\n",
       "        text-align: right;\n",
       "    }\n",
       "</style>\n",
       "<table border=\"1\" class=\"dataframe\">\n",
       "  <thead>\n",
       "    <tr style=\"text-align: right;\">\n",
       "      <th>Total_Trips</th>\n",
       "      <th>1</th>\n",
       "    </tr>\n",
       "    <tr>\n",
       "      <th>mode</th>\n",
       "      <th></th>\n",
       "    </tr>\n",
       "  </thead>\n",
       "  <tbody>\n",
       "    <tr>\n",
       "      <th>bus</th>\n",
       "      <td>3152</td>\n",
       "    </tr>\n",
       "    <tr>\n",
       "      <th>car</th>\n",
       "      <td>1276822</td>\n",
       "    </tr>\n",
       "    <tr>\n",
       "      <th>walk</th>\n",
       "      <td>167586</td>\n",
       "    </tr>\n",
       "  </tbody>\n",
       "</table>\n",
       "</div>"
      ],
      "text/plain": [
       "Total_Trips        1\n",
       "mode                \n",
       "bus             3152\n",
       "car          1276822\n",
       "walk          167586"
      ]
     },
     "execution_count": 21,
     "metadata": {},
     "output_type": "execute_result"
    }
   ],
   "source": [
    "pd.crosstab(df2[\"mode\"], df2[\"Total_Trips\"])"
   ]
  },
  {
   "cell_type": "code",
   "execution_count": 22,
   "metadata": {},
   "outputs": [
    {
     "data": {
      "text/html": [
       "<div>\n",
       "<style scoped>\n",
       "    .dataframe tbody tr th:only-of-type {\n",
       "        vertical-align: middle;\n",
       "    }\n",
       "\n",
       "    .dataframe tbody tr th {\n",
       "        vertical-align: top;\n",
       "    }\n",
       "\n",
       "    .dataframe thead th {\n",
       "        text-align: right;\n",
       "    }\n",
       "</style>\n",
       "<table border=\"1\" class=\"dataframe\">\n",
       "  <thead>\n",
       "    <tr style=\"text-align: right;\">\n",
       "      <th>LoInc</th>\n",
       "      <th>0.0</th>\n",
       "      <th>1.0</th>\n",
       "    </tr>\n",
       "    <tr>\n",
       "      <th>mode</th>\n",
       "      <th></th>\n",
       "      <th></th>\n",
       "    </tr>\n",
       "  </thead>\n",
       "  <tbody>\n",
       "    <tr>\n",
       "      <th>bus</th>\n",
       "      <td>2712</td>\n",
       "      <td>439</td>\n",
       "    </tr>\n",
       "    <tr>\n",
       "      <th>car</th>\n",
       "      <td>1175169</td>\n",
       "      <td>101036</td>\n",
       "    </tr>\n",
       "    <tr>\n",
       "      <th>walk</th>\n",
       "      <td>147436</td>\n",
       "      <td>20119</td>\n",
       "    </tr>\n",
       "  </tbody>\n",
       "</table>\n",
       "</div>"
      ],
      "text/plain": [
       "LoInc      0.0     1.0\n",
       "mode                  \n",
       "bus       2712     439\n",
       "car    1175169  101036\n",
       "walk    147436   20119"
      ]
     },
     "execution_count": 22,
     "metadata": {},
     "output_type": "execute_result"
    }
   ],
   "source": [
    "pd.crosstab(df2[\"mode\"], df2[\"LoInc\"])"
   ]
  },
  {
   "cell_type": "code",
   "execution_count": 23,
   "metadata": {},
   "outputs": [
    {
     "data": {
      "text/html": [
       "<div>\n",
       "<style scoped>\n",
       "    .dataframe tbody tr th:only-of-type {\n",
       "        vertical-align: middle;\n",
       "    }\n",
       "\n",
       "    .dataframe tbody tr th {\n",
       "        vertical-align: top;\n",
       "    }\n",
       "\n",
       "    .dataframe thead th {\n",
       "        text-align: right;\n",
       "    }\n",
       "</style>\n",
       "<table border=\"1\" class=\"dataframe\">\n",
       "  <thead>\n",
       "    <tr style=\"text-align: right;\">\n",
       "      <th>Total_Trips</th>\n",
       "      <th>1</th>\n",
       "    </tr>\n",
       "    <tr>\n",
       "      <th>mode</th>\n",
       "      <th></th>\n",
       "    </tr>\n",
       "  </thead>\n",
       "  <tbody>\n",
       "    <tr>\n",
       "      <th>bus</th>\n",
       "      <td>4148</td>\n",
       "    </tr>\n",
       "    <tr>\n",
       "      <th>car</th>\n",
       "      <td>1276194</td>\n",
       "    </tr>\n",
       "    <tr>\n",
       "      <th>walk</th>\n",
       "      <td>166593</td>\n",
       "    </tr>\n",
       "  </tbody>\n",
       "</table>\n",
       "</div>"
      ],
      "text/plain": [
       "Total_Trips        1\n",
       "mode                \n",
       "bus             4148\n",
       "car          1276194\n",
       "walk          166593"
      ]
     },
     "execution_count": 23,
     "metadata": {},
     "output_type": "execute_result"
    }
   ],
   "source": [
    "pd.crosstab(df3[\"mode\"], df3[\"Total_Trips\"])"
   ]
  },
  {
   "cell_type": "code",
   "execution_count": 24,
   "metadata": {},
   "outputs": [
    {
     "data": {
      "text/html": [
       "<div>\n",
       "<style scoped>\n",
       "    .dataframe tbody tr th:only-of-type {\n",
       "        vertical-align: middle;\n",
       "    }\n",
       "\n",
       "    .dataframe tbody tr th {\n",
       "        vertical-align: top;\n",
       "    }\n",
       "\n",
       "    .dataframe thead th {\n",
       "        text-align: right;\n",
       "    }\n",
       "</style>\n",
       "<table border=\"1\" class=\"dataframe\">\n",
       "  <thead>\n",
       "    <tr style=\"text-align: right;\">\n",
       "      <th>LoInc</th>\n",
       "      <th>0.0</th>\n",
       "      <th>1.0</th>\n",
       "    </tr>\n",
       "    <tr>\n",
       "      <th>mode</th>\n",
       "      <th></th>\n",
       "      <th></th>\n",
       "    </tr>\n",
       "  </thead>\n",
       "  <tbody>\n",
       "    <tr>\n",
       "      <th>bus</th>\n",
       "      <td>3516</td>\n",
       "      <td>631</td>\n",
       "    </tr>\n",
       "    <tr>\n",
       "      <th>car</th>\n",
       "      <td>1174722</td>\n",
       "      <td>100855</td>\n",
       "    </tr>\n",
       "    <tr>\n",
       "      <th>walk</th>\n",
       "      <td>146497</td>\n",
       "      <td>20065</td>\n",
       "    </tr>\n",
       "  </tbody>\n",
       "</table>\n",
       "</div>"
      ],
      "text/plain": [
       "LoInc      0.0     1.0\n",
       "mode                  \n",
       "bus       3516     631\n",
       "car    1174722  100855\n",
       "walk    146497   20065"
      ]
     },
     "execution_count": 24,
     "metadata": {},
     "output_type": "execute_result"
    }
   ],
   "source": [
    "pd.crosstab(df3[\"mode\"], df3[\"LoInc\"])"
   ]
  },
  {
   "cell_type": "code",
   "execution_count": 25,
   "metadata": {},
   "outputs": [
    {
     "data": {
      "text/html": [
       "<div>\n",
       "<style scoped>\n",
       "    .dataframe tbody tr th:only-of-type {\n",
       "        vertical-align: middle;\n",
       "    }\n",
       "\n",
       "    .dataframe tbody tr th {\n",
       "        vertical-align: top;\n",
       "    }\n",
       "\n",
       "    .dataframe thead th {\n",
       "        text-align: right;\n",
       "    }\n",
       "</style>\n",
       "<table border=\"1\" class=\"dataframe\">\n",
       "  <thead>\n",
       "    <tr style=\"text-align: right;\">\n",
       "      <th>Total_Trips</th>\n",
       "      <th>1</th>\n",
       "    </tr>\n",
       "    <tr>\n",
       "      <th>mode</th>\n",
       "      <th></th>\n",
       "    </tr>\n",
       "  </thead>\n",
       "  <tbody>\n",
       "    <tr>\n",
       "      <th>bus</th>\n",
       "      <td>4177</td>\n",
       "    </tr>\n",
       "    <tr>\n",
       "      <th>car</th>\n",
       "      <td>1276059</td>\n",
       "    </tr>\n",
       "    <tr>\n",
       "      <th>walk</th>\n",
       "      <td>166794</td>\n",
       "    </tr>\n",
       "  </tbody>\n",
       "</table>\n",
       "</div>"
      ],
      "text/plain": [
       "Total_Trips        1\n",
       "mode                \n",
       "bus             4177\n",
       "car          1276059\n",
       "walk          166794"
      ]
     },
     "execution_count": 25,
     "metadata": {},
     "output_type": "execute_result"
    }
   ],
   "source": [
    "pd.crosstab(df4[\"mode\"], df4[\"Total_Trips\"])"
   ]
  },
  {
   "cell_type": "code",
   "execution_count": 26,
   "metadata": {},
   "outputs": [
    {
     "data": {
      "text/html": [
       "<div>\n",
       "<style scoped>\n",
       "    .dataframe tbody tr th:only-of-type {\n",
       "        vertical-align: middle;\n",
       "    }\n",
       "\n",
       "    .dataframe tbody tr th {\n",
       "        vertical-align: top;\n",
       "    }\n",
       "\n",
       "    .dataframe thead th {\n",
       "        text-align: right;\n",
       "    }\n",
       "</style>\n",
       "<table border=\"1\" class=\"dataframe\">\n",
       "  <thead>\n",
       "    <tr style=\"text-align: right;\">\n",
       "      <th>LoInc</th>\n",
       "      <th>0.0</th>\n",
       "      <th>1.0</th>\n",
       "    </tr>\n",
       "    <tr>\n",
       "      <th>mode</th>\n",
       "      <th></th>\n",
       "      <th></th>\n",
       "    </tr>\n",
       "  </thead>\n",
       "  <tbody>\n",
       "    <tr>\n",
       "      <th>bus</th>\n",
       "      <td>3553</td>\n",
       "      <td>621</td>\n",
       "    </tr>\n",
       "    <tr>\n",
       "      <th>car</th>\n",
       "      <td>1174513</td>\n",
       "      <td>100929</td>\n",
       "    </tr>\n",
       "    <tr>\n",
       "      <th>walk</th>\n",
       "      <td>146755</td>\n",
       "      <td>20010</td>\n",
       "    </tr>\n",
       "  </tbody>\n",
       "</table>\n",
       "</div>"
      ],
      "text/plain": [
       "LoInc      0.0     1.0\n",
       "mode                  \n",
       "bus       3553     621\n",
       "car    1174513  100929\n",
       "walk    146755   20010"
      ]
     },
     "execution_count": 26,
     "metadata": {},
     "output_type": "execute_result"
    }
   ],
   "source": [
    "pd.crosstab(df4[\"mode\"], df4[\"LoInc\"])"
   ]
  },
  {
   "cell_type": "code",
   "execution_count": null,
   "metadata": {},
   "outputs": [],
   "source": []
  },
  {
   "cell_type": "code",
   "execution_count": null,
   "metadata": {},
   "outputs": [],
   "source": [
    "# Create Maps"
   ]
  },
  {
   "cell_type": "code",
   "execution_count": null,
   "metadata": {},
   "outputs": [],
   "source": []
  },
  {
   "cell_type": "code",
   "execution_count": null,
   "metadata": {},
   "outputs": [],
   "source": []
  },
  {
   "cell_type": "code",
   "execution_count": null,
   "metadata": {},
   "outputs": [],
   "source": []
  }
 ],
 "metadata": {
  "kernelspec": {
   "display_name": "Python 3",
   "language": "python",
   "name": "python3"
  },
  "language_info": {
   "codemirror_mode": {
    "name": "ipython",
    "version": 3
   },
   "file_extension": ".py",
   "mimetype": "text/x-python",
   "name": "python",
   "nbconvert_exporter": "python",
   "pygments_lexer": "ipython3",
   "version": "3.8.3"
  }
 },
 "nbformat": 4,
 "nbformat_minor": 4
}
