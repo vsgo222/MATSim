{
 "cells": [
  {
   "cell_type": "code",
   "execution_count": 1,
   "metadata": {},
   "outputs": [],
   "source": [
    "import gzip\n",
    "import jsonlines\n",
    "import pandas as pd\n",
    "import numpy as np\n",
    "import json\n",
    "from xml.etree.ElementTree import Element, SubElement, Comment, tostring\n",
    "import xml.etree.ElementTree as ET\n",
    "from pprint import pprint\n",
    "import os.path\n",
    "import time\n",
    "import copy\n",
    "import tqdm\n"
   ]
  },
  {
   "cell_type": "code",
   "execution_count": null,
   "metadata": {},
   "outputs": [],
   "source": [
    "# get the total number of vehicle counts in the transitVehicles.xml"
   ]
  },
  {
   "cell_type": "code",
   "execution_count": 3,
   "metadata": {},
   "outputs": [
    {
     "name": "stdout",
     "output_type": "stream",
     "text": [
      "Total number of buses :10822\n",
      "Total number of rail :843\n"
     ]
    }
   ],
   "source": [
    "ET.register_namespace('', \"http://www.matsim.org/files/dtd\")\n",
    "ET.register_namespace('xsi', \"http://www.w3.org/2001/XMLSchema-instance\")\n",
    "\n",
    "# get the transitStop data into a dictionary\n",
    "transit_vehicle_file = 'output_transitVehicles.xml.gz'\n",
    "count_train = 0\n",
    "count_bus = 0\n",
    "count_total = 0\n",
    "with gzip.open(transit_vehicle_file, 'rb') as f:\n",
    "    file_content = f.read()\n",
    "    root = ET.fromstring(file_content)        \n",
    "    for child in root:\n",
    "        if len(child.attrib)!=0:\n",
    "            mode = child.get(\"type\")\n",
    "            if mode=='bus':\n",
    "                count_bus+=1\n",
    "            if mode=='rail':\n",
    "                count_train+=1\n",
    "\n",
    "#         print( child.attrib)\n",
    "#         xml_str = ET.tostring(e).decode()\n",
    "#         print(xml_str)\n",
    "        \n",
    "#     for child in root.findall(\"vehicle\"):\n",
    "#         print(child[\"type\"])\n",
    "#         mode = child.get(\"type\")        \n",
    "#         count_total+=1\n",
    "# print(\"Total number of transit vehicles :{}\".format(count_total))\n",
    "print(\"Total number of buses :{}\".format(count_bus))\n",
    "print(\"Total number of rail :{}\".format(count_train))"
   ]
  },
  {
   "cell_type": "code",
   "execution_count": 2,
   "metadata": {},
   "outputs": [
    {
     "name": "stdout",
     "output_type": "stream",
     "text": [
      "Total number of buses :10966\n",
      "Total number of rail :843\n"
     ]
    }
   ],
   "source": [
    "ET.register_namespace('', \"http://www.matsim.org/files/dtd\")\n",
    "ET.register_namespace('xsi', \"http://www.w3.org/2001/XMLSchema-instance\")\n",
    "\n",
    "# get the transitStop data into a dictionary\n",
    "transit_vehicle_file = 'matsim_transitVehicles_lowincome.xml.gz'\n",
    "count_train = 0\n",
    "count_bus = 0\n",
    "count_total = 0\n",
    "with gzip.open(transit_vehicle_file, 'rb') as f:\n",
    "    file_content = f.read()\n",
    "    root = ET.fromstring(file_content)        \n",
    "    for child in root:\n",
    "        if len(child.attrib)!=0:\n",
    "            mode = child.get(\"type\")\n",
    "            if mode=='bus':\n",
    "                count_bus+=1\n",
    "            if mode=='rail':\n",
    "                count_train+=1\n",
    "\n",
    "#         print( child.attrib)\n",
    "#         xml_str = ET.tostring(e).decode()\n",
    "#         print(xml_str)\n",
    "        \n",
    "#     for child in root.findall(\"vehicle\"):\n",
    "#         print(child[\"type\"])\n",
    "#         mode = child.get(\"type\")        \n",
    "#         count_total+=1\n",
    "# print(\"Total number of transit vehicles :{}\".format(count_total))\n",
    "print(\"Total number of buses :{}\".format(count_bus))\n",
    "print(\"Total number of rail :{}\".format(count_train))\n",
    "            "
   ]
  },
  {
   "cell_type": "code",
   "execution_count": 4,
   "metadata": {},
   "outputs": [
    {
     "name": "stdout",
     "output_type": "stream",
     "text": [
      "Total number of buses :10962\n",
      "Total number of rail :843\n"
     ]
    }
   ],
   "source": [
    "ET.register_namespace('', \"http://www.matsim.org/files/dtd\")\n",
    "ET.register_namespace('xsi', \"http://www.w3.org/2001/XMLSchema-instance\")\n",
    "\n",
    "# get the transitStop data into a dictionary\n",
    "transit_vehicle_file = 'matsim_transitVehicles_highptrdrshp.xml.gz'\n",
    "count_train = 0\n",
    "count_bus = 0\n",
    "count_total = 0\n",
    "with gzip.open(transit_vehicle_file, 'rb') as f:\n",
    "    file_content = f.read()\n",
    "    root = ET.fromstring(file_content)        \n",
    "    for child in root:\n",
    "        if len(child.attrib)!=0:\n",
    "            mode = child.get(\"type\")\n",
    "            if mode=='bus':\n",
    "                count_bus+=1\n",
    "            if mode=='rail':\n",
    "                count_train+=1\n",
    "\n",
    "#         print( child.attrib)\n",
    "#         xml_str = ET.tostring(e).decode()\n",
    "#         print(xml_str)\n",
    "        \n",
    "#     for child in root.findall(\"vehicle\"):\n",
    "#         print(child[\"type\"])\n",
    "#         mode = child.get(\"type\")        \n",
    "#         count_total+=1\n",
    "# print(\"Total number of transit vehicles :{}\".format(count_total))\n",
    "print(\"Total number of buses :{}\".format(count_bus))\n",
    "print(\"Total number of rail :{}\".format(count_train))\n",
    "            "
   ]
  },
  {
   "cell_type": "code",
   "execution_count": 6,
   "metadata": {},
   "outputs": [
    {
     "name": "stdout",
     "output_type": "stream",
     "text": [
      "Total number of buses :10962\n",
      "Total number of rail :843\n"
     ]
    }
   ],
   "source": [
    "ET.register_namespace('', \"http://www.matsim.org/files/dtd\")\n",
    "ET.register_namespace('xsi', \"http://www.w3.org/2001/XMLSchema-instance\")\n",
    "\n",
    "# get the transitStop data into a dictionary\n",
    "transit_vehicle_file = './HighPTRdrshp/output_transitVehicles.xml.gz'\n",
    "count_train = 0\n",
    "count_bus = 0\n",
    "count_total = 0\n",
    "with gzip.open(transit_vehicle_file, 'rb') as f:\n",
    "    file_content = f.read()\n",
    "    root = ET.fromstring(file_content)        \n",
    "    for child in root:\n",
    "        if len(child.attrib)!=0:\n",
    "            mode = child.get(\"type\")\n",
    "            if mode=='bus':\n",
    "                count_bus+=1\n",
    "            if mode=='rail':\n",
    "                count_train+=1\n",
    "\n",
    "#         print( child.attrib)\n",
    "#         xml_str = ET.tostring(e).decode()\n",
    "#         print(xml_str)\n",
    "        \n",
    "#     for child in root.findall(\"vehicle\"):\n",
    "#         print(child[\"type\"])\n",
    "#         mode = child.get(\"type\")        \n",
    "#         count_total+=1\n",
    "# print(\"Total number of transit vehicles :{}\".format(count_total))\n",
    "print(\"Total number of buses :{}\".format(count_bus))\n",
    "print(\"Total number of rail :{}\".format(count_train))"
   ]
  },
  {
   "cell_type": "code",
   "execution_count": 9,
   "metadata": {},
   "outputs": [
    {
     "name": "stdout",
     "output_type": "stream",
     "text": [
      "Total number of vehicles :11809\n"
     ]
    }
   ],
   "source": [
    "from xml.etree.ElementTree import Element, SubElement, Comment, tostring\n",
    "import xml.etree.ElementTree as ET\n",
    "# get the transitStop data into a dictionary\n",
    "transit_schedule_file = './base_case/matsim_transitSchedule_lowincome.xml.gz'\n",
    "count_train = 0\n",
    "count_bus = 0\n",
    "count_total = 0\n",
    "with gzip.open(transit_schedule_file, 'rb') as f:\n",
    "    file_content = f.read()\n",
    "    root = ET.fromstring(file_content)\n",
    "    for child in root.iter(\"transitRoute\"):\n",
    "        for subchild in child.iter(\"departure\"):\n",
    "            count_total+=1\n",
    "                \n",
    "print(\"Total number of vehicles :{}\".format(count_total))"
   ]
  },
  {
   "cell_type": "code",
   "execution_count": null,
   "metadata": {},
   "outputs": [],
   "source": []
  }
 ],
 "metadata": {
  "kernelspec": {
   "display_name": "Python 3",
   "language": "python",
   "name": "python3"
  },
  "language_info": {
   "codemirror_mode": {
    "name": "ipython",
    "version": 3
   },
   "file_extension": ".py",
   "mimetype": "text/x-python",
   "name": "python",
   "nbconvert_exporter": "python",
   "pygments_lexer": "ipython3",
   "version": "3.8.5"
  }
 },
 "nbformat": 4,
 "nbformat_minor": 4
}
