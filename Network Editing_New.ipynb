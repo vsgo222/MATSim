{
 "cells": [
  {
   "cell_type": "code",
   "execution_count": 1,
   "metadata": {},
   "outputs": [],
   "source": [
    "# Network Editing"
   ]
  },
  {
   "cell_type": "code",
   "execution_count": 2,
   "metadata": {},
   "outputs": [],
   "source": [
    "import gzip\n",
    "import jsonlines\n",
    "import pandas as pd\n",
    "import numpy as np\n",
    "import json\n",
    "from xml.etree.ElementTree import Element, SubElement, Comment, tostring\n",
    "import xml.etree.ElementTree as ET\n",
    "from pprint import pprint\n",
    "import os.path\n",
    "import tqdm"
   ]
  },
  {
   "cell_type": "code",
   "execution_count": 3,
   "metadata": {},
   "outputs": [],
   "source": [
    "rename = {\"Unnamed: 1\":\"Bus_Route_ID\",\n",
    "         \"Unnamed: 2\":\"Buddy_Route_ID\",\n",
    "         \"Unnamed: 3\":\"Travel_Time(sec)\",\n",
    "         \"Unnamed: 4\":\"Daily_Tot_Rdrshp(Ind)\",\n",
    "         \"Unnamed: 5\":\"Ind_route_rnk\",\n",
    "         \"Unnamed: 6\":\"Buddy_route_rdrshp\",\n",
    "         \"Unnamed: 7\":\"Avg_rdrshp\",\n",
    "         \"Unnamed: 8\":\"Operator\",\n",
    "         \"Unnamed: 9\":\"Mode\",\n",
    "         \"Unnamed: 10\":\"RnkHelper\",\n",
    "         \"Unnamed: 11\":\"Jt_Rnk\",\n",
    "         \"Unnamed: 12\":\"Within_Op_rnk\",\n",
    "         \"Unnamed: 22\":\"Summary_Head\",\n",
    "         \"Unnamed: 23\":\"Summary_Values\"}\n",
    "excel_file = \"Atlanta_toolkit_v0.5_c-7.0_b_-4.0_r5.0.xlsx\"\n",
    "work_sheet = \"summ_hi_pt_rdrshp\"\n",
    "df = pd.read_excel(excel_file, sheet_name=work_sheet, index_col=0, header=1).fillna(method='ffill')\n",
    "df.rename(columns=rename,inplace=True)\n",
    "uOperators = df.Operator.unique()\n",
    "Routes = []\n",
    "top_pt_routes_pct=df.loc[10,\"Summary_Values\"]\n",
    "# print(uOperator)\n",
    "for operator in uOperators:\n",
    "    df_filter = df.copy()[df.Operator == str(operator)]\n",
    "    ncount = len(df_filter.index)\n",
    "    df_filter = df_filter.copy()[df_filter.Within_Op_rnk <=ncount*top_pt_routes_pct]\n",
    "    Routes.extend(df_filter.Bus_Route_ID.tolist())"
   ]
  },
  {
   "cell_type": "code",
   "execution_count": 4,
   "metadata": {},
   "outputs": [
    {
     "name": "stderr",
     "output_type": "stream",
     "text": [
      "\r",
      "0it [00:00, ?it/s]"
     ]
    },
    {
     "name": "stdout",
     "output_type": "stream",
     "text": [
      "Process started\n"
     ]
    },
    {
     "name": "stderr",
     "output_type": "stream",
     "text": [
      "307it [3:04:03, 35.97s/it] \n",
      "  0%|▏                                                                             | 22/13273 [00:00<02:01, 108.97it/s]"
     ]
    },
    {
     "name": "stdout",
     "output_type": "stream",
     "text": [
      "Completed transitline for loop\n"
     ]
    },
    {
     "name": "stderr",
     "output_type": "stream",
     "text": [
      "100%|███████████████████████████████████████████████████████████████████████████| 13273/13273 [02:03<00:00, 107.74it/s]\n",
      "  1%|▉                                                                              | 26/2281 [00:00<00:18, 123.99it/s]"
     ]
    },
    {
     "name": "stdout",
     "output_type": "stream",
     "text": [
      "Completed stopFacility@LinkRefId for loop\n"
     ]
    },
    {
     "name": "stderr",
     "output_type": "stream",
     "text": [
      "100%|█████████████████████████████████████████████████████████████████████████████| 2281/2281 [00:18<00:00, 126.50it/s]\n",
      "  0%|▏                                                                                | 6/2281 [00:00<00:38, 58.52it/s]"
     ]
    },
    {
     "name": "stdout",
     "output_type": "stream",
     "text": [
      "Completed stopFacilityId for loop\n"
     ]
    },
    {
     "name": "stderr",
     "output_type": "stream",
     "text": [
      "100%|██████████████████████████████████████████████████████████████████████████████| 2281/2281 [00:25<00:00, 88.44it/s]\n",
      "100%|████████████████████████████████████████████████████████████████████████████| 13273/13273 [13:21<00:00, 16.56it/s]\n"
     ]
    },
    {
     "name": "stdout",
     "output_type": "stream",
     "text": [
      "Completed Link@LinkRefId for loop\n",
      "Wall time: 3h 28min 21s\n"
     ]
    }
   ],
   "source": [
    "%%time\n",
    "\n",
    "# correct working 19-Jan-2021@4.30PM\n",
    "# get transit routes departure and arrival times\n",
    "\n",
    "import gzip\n",
    "import jsonlines\n",
    "import pandas as pd\n",
    "import numpy as np\n",
    "import json\n",
    "import xml.etree.ElementTree as ET\n",
    "from pprint import pprint\n",
    "import os.path\n",
    "from tqdm import tqdm\n",
    "\n",
    "\n",
    "# get the path of the output_network file\n",
    "network_file = 'output_network.xml.gz'\n",
    "with gzip.open(network_file, 'rb') as f:\n",
    "    file_content = f.read()\n",
    "    network_root = ET.fromstring(file_content)\n",
    "#     print(network_root.tag)\n",
    "    \n",
    "\n",
    "# get the path of the transitSchedule file\n",
    "network_file = 'output_transitSchedule.xml.gz'\n",
    "with gzip.open(network_file, 'rb') as f:\n",
    "    file_content = f.read()\n",
    "    ptschedule_root = ET.fromstring(file_content)\n",
    "#     print(ptschedule_root.tag)\n",
    "    \n",
    "    \n",
    "    \n",
    "import copy\n",
    "def insert_sublink_element(member):\n",
    "    for links in network_root.findall(\"links\"):\n",
    "        temp = member.get(\"modes\")\n",
    "#         print(member.get(\"modes\"))\n",
    "#         temp_lst = temp.split(\",\")        \n",
    "#         if (\"artificial\" in temp_lst) or (\"stopFacilityLink\" in temp_lst):\n",
    "#             member.set(\"modes\", \"stopFacilityLink,bus,artificial\")\n",
    "#         elif (\"bus\" in temp_lst):\n",
    "        if \"bus\" not in temp:\n",
    "            member.set(\"modes\", \"bus\")        \n",
    "            member.set(\"permlanes\", \"1.0\")\n",
    "            member.set(\"freespeed\", \"20.0\")\n",
    "            member.set(\"capacity\", \"9999.0\")\n",
    "            # replace the link refId in the transitSchedule.xml\n",
    "            linkRefId[member.get(\"id\")] = (member.get(\"id\")+\"_busonly\")\n",
    "            # change the link Id = link + \"_busonly\"\n",
    "            member.set(\"id\", (member.get(\"id\")+\"_busonly\"))\n",
    "            links.append(member)\n",
    "            # print(member.get(\"id\"))\n",
    "    \n",
    "def get_linkIDelement(_id):\n",
    "    member = network_root.find(\"./links/link[@id ='%s']\"%(_id))\n",
    "    txt=member.get(\"modes\")\n",
    "    try: \n",
    "        if member.get(\"id\") not in originallinks:\n",
    "            originallinks.append(member.get(\"id\"))\n",
    "            if \"stopFacilityLink\" not in txt or \"artificial\" not in txt:\n",
    "                # if \"artificial\" not in txt: \n",
    "                if \"bus\" in txt:\n",
    "                    member.set(\"modes\", txt.replace(\"bus,\",\"\"))\n",
    "                    # Create a copy\n",
    "                    member2 = copy.deepcopy(member)\n",
    "                    insert_sublink_element(member2)\n",
    "                        # print(member.get(\"id\")+\"\\n\")\n",
    "                    return member\n",
    "    except:\n",
    "        pass\n",
    "\n",
    "\n",
    "\n",
    "# lets change things for the top PT rdrshp routes.\n",
    "print(\"Process started\")\n",
    "routeId_set = Routes\n",
    "stopFacilityId = {}\n",
    "linkRefId = {}\n",
    "counter=0\n",
    "originallinks = []\n",
    "mtt_stops_from = []\n",
    "mtt_stops_to= []\n",
    "for child in tqdm(ptschedule_root.iter('transitLine')):\n",
    "    if child.get(\"id\") in routeId_set:\n",
    "        # print(child.get(\"id\"))\n",
    "        transitRoute=child.get(\"id\")\n",
    "        for subchild in child.iter(\"stop\"):\n",
    "            if subchild.get(\"refId\") not in stopFacilityId:\n",
    "                stopFacilityId[subchild.get(\"refId\")] = subchild.get(\"refId\") + \"_STOPFACILITY_NO_\" + str(counter)\n",
    "                counter+=1\n",
    "        for schild in child.iter(\"link\"):\n",
    "            member = get_linkIDelement(schild.get(\"refId\"))\n",
    "print(\"Completed transitline for loop\")            \n",
    "# change stopFacility@linkRefId to *_buslane\n",
    "for key,value in tqdm(linkRefId.items()):\n",
    "    for stopFacility_links in ptschedule_root.findall(\"./transitStops/stopFacility[@linkRefId ='%s']\"%(str(key))):\n",
    "        stopFacility_links.set(\"linkRefId\", (value))\n",
    "# change stopFacility@id to *_STOPFACILITY_COUNTER\n",
    "print(\"Completed stopFacility@LinkRefId for loop\")           \n",
    "for key,value in tqdm(stopFacilityId.items()):\n",
    "    for stopFacility_id in ptschedule_root.findall(\"./transitStops/stopFacility[@id ='%s']\"%(str(key))):\n",
    "        stopFacility_id.set(\"id\", (value))\n",
    "for key,value in tqdm(stopFacilityId.items()):\n",
    "    for mtt_stops_from in ptschedule_root.findall(\"./minimalTransferTimes/relation[@fromStop ='%s']\"%(str(key))):\n",
    "        mtt_stops_from.set(\"fromStop\", (value))\n",
    "    for mtt_stops_to in ptschedule_root.findall(\"./minimalTransferTimes/relation[@toStop ='%s']\"%(str(key))):\n",
    "        mtt_stops_to.set(\"toStop\", (value))\n",
    "print(\"Completed stopFacilityId for loop\")           \n",
    "# change stop@refId to *_STOPFACILITY_COUNTER        \n",
    "for key,value in tqdm(stopFacilityId.items()):\n",
    "    for stop_refId in ptschedule_root.findall(\"./transitLine/transitRoute/routeProfile/stop[@refId ='%s']\"%(str(key))):\n",
    "        stop_refId.set(\"refId\", (value))\n",
    "# change link@refId to *_buslane\n",
    "for key,value in tqdm(linkRefId.items()):\n",
    "    for link_refId in ptschedule_root.findall(\"./transitLine/transitRoute/route/link[@refId ='%s']\"%(str(key))):\n",
    "        link_refId.set(\"refId\", (value))\n",
    "print(\"Completed Link@LinkRefId for loop\")          \n",
    "        \n",
    "from xml.etree import ElementTree\n",
    "from xml.dom import minidom\n",
    "\n",
    "# save the modified transitSchedules as schedule.xml\n",
    "# ptschedule = ptschedule_root.getroot()\n",
    "# xmlstr = minidom.parseString(ET.tostring(ptschedule_root)).toprettyxml(indent=\"\\t\")\n",
    "xmlstr = minidom.parseString(ET.tostring(ptschedule_root)).toprettyxml()\n",
    "with open(\"matsim_transitSchedule.xml\", \"w\") as f:\n",
    "    f.write(xmlstr)\n",
    "\n",
    "# save the modified matsim_network as road_network.xml\n",
    "# roadnetwork = network_root.getroot()\n",
    "# xmlstr = minidom.parseString(ET.tostring(network_root)).toprettyxml(indent=\"\\t\")\n",
    "xmlstr = minidom.parseString(ET.tostring(network_root)).toprettyxml()\n",
    "with open(\"matsim_network.xml\", \"w\") as f:\n",
    "    f.write(xmlstr)"
   ]
  },
  {
   "cell_type": "code",
   "execution_count": 8,
   "metadata": {},
   "outputs": [],
   "source": [
    "# # linkRefId.to_csv('LinkRefID.csv')\n",
    "# df = pd.DataFrame.from_dict(linkRefId, orient=\"index\")\n",
    "# df.to_csv('LinkRefId.csv')"
   ]
  },
  {
   "cell_type": "code",
   "execution_count": 9,
   "metadata": {},
   "outputs": [],
   "source": [
    "# # linkRefId.to_csv('LinkRefID.csv')\n",
    "# df = pd.DataFrame.from_dict(stopFacilityId, orient=\"index\")\n",
    "# df.to_csv('stopFacilityId.csv')"
   ]
  },
  {
   "cell_type": "code",
   "execution_count": 10,
   "metadata": {},
   "outputs": [
    {
     "name": "stderr",
     "output_type": "stream",
     "text": [
      "100%|█████████████████████████████████████████████████████████████████████████████| 2281/2281 [00:02<00:00, 863.51it/s]\n"
     ]
    }
   ],
   "source": [
    "# for key,value in tqdm(stopFacilityId.items()):\n",
    "#     for mtt_stops_from in ptschedule_root.findall(\"./minimalTransferTimes/relation[@fromStop ='%s']\"%(str(key))):\n",
    "#         mtt_stops_from.set(\"fromStop\", (value))\n",
    "#     for mtt_stops_to in ptschedule_root.findall(\"./minimalTransferTimes/relation[@toStop ='%s']\"%(str(key))):\n",
    "#         mtt_stops_to.set(\"toStop\", (value))\n",
    "# from xml.etree import ElementTree\n",
    "# from xml.dom import minidom\n",
    "\n",
    "# # save the modified transitSchedules as schedule.xml\n",
    "# # ptschedule = ptschedule_root.getroot()\n",
    "# # xmlstr = minidom.parseString(ET.tostring(ptschedule_root)).toprettyxml(indent=\"\\t\")\n",
    "# xmlstr = minidom.parseString(ET.tostring(ptschedule_root)).toprettyxml()\n",
    "# with open(\"matsim_transitSchedule.xml\", \"w\") as f:\n",
    "#     f.write(xmlstr)"
   ]
  },
  {
   "cell_type": "code",
   "execution_count": null,
   "metadata": {},
   "outputs": [],
   "source": []
  },
  {
   "cell_type": "code",
   "execution_count": null,
   "metadata": {},
   "outputs": [],
   "source": []
  },
  {
   "cell_type": "code",
   "execution_count": 5,
   "metadata": {},
   "outputs": [],
   "source": [
    "# for key,value in linkRefId.items():\n",
    "#     for links in ptschedule_root.findall(\"./transitLine/transitRoute/route/link[@refId ='%s']\"%(str(key))):\n",
    "#         links.set(\"refId\", (value))\n",
    "        \n",
    "# for key,value in stopFacilityId.items():\n",
    "#     for links in ptschedule_root.findall(\"./transitStops/stopFacility[@id ='%s']\"%(str(key))):\n",
    "#         links.set(\"id\", (value))\n",
    "#         if links.get(\"linkRefId\") in linkRefId:\n",
    "#             links.set(\"linkRefId\", (linkRefId[links.get(\"linkRefId\")]))\n",
    "# #         linkRefId[links.get(\"linkRefId\")]\n",
    "\n",
    "# for key,value in stopFacilityId.items():\n",
    "#     for links in ptschedule_root.findall(\"./transitLine/transitRoute/routeProfile/stop[@refId ='%s']\"%(str(key))):\n",
    "#         links.set(\"refId\", (value))\n",
    "\n",
    "        \n",
    "# from xml.etree import ElementTree\n",
    "# from xml.dom import minidom\n",
    "\n",
    "# # save the modified transitSchedules as schedule.xml\n",
    "# # ptschedule = ptschedule_root.getroot()\n",
    "# xmlstr = minidom.parseString(ET.tostring(ptschedule_root)).toprettyxml(indent=\"\\t\")\n",
    "# with open(\"matsim_transitSchedule.xml\", \"w\") as f:\n",
    "#     f.write(xmlstr)\n",
    "\n",
    "# # save the modified matsim_network as road_network.xml\n",
    "# # roadnetwork = network_root.getroot()\n",
    "# xmlstr = minidom.parseString(ET.tostring(network_root)).toprettyxml(indent=\"\\t\")\n",
    "# with open(\"matsim_network.xml\", \"w\") as f:\n",
    "#     f.write(xmlstr)\n",
    "    \n",
    "    \n",
    "# for key,value in linkRefId.items():\n",
    "#     for links in ptschedule_root.findall(\"./transitLine/transitRoute/route/link[@refId ='%s']\"%(str(key))):\n",
    "#         links.set(\"refId\", (value))\n",
    "        \n",
    "# for key,value in stopFacilityId.items():\n",
    "#     for links in ptschedule_root.findall(\"./transitStops/stopFacility[@id ='%s']\"%(str(key))):\n",
    "#         links.set(\"id\", (value))\n",
    "#         if links.get(\"linkRefId\") in linkRefId:\n",
    "#             links.set(\"linkRefId\", (linkRefId[links.get(\"linkRefId\")]))\n",
    "# #         linkRefId[links.get(\"linkRefId\")]\n",
    "\n",
    "# for key,value in stopFacilityId.items():\n",
    "#     for links in ptschedule_root.findall(\"./transitLine/transitRoute/routeProfile/stop[@refId ='%s']\"%(str(key))):\n",
    "#         links.set(\"id\", (value))\n",
    "        \n",
    "# from xml.etree import ElementTree\n",
    "# from xml.dom import minidom\n",
    "\n",
    "# # save the modified transitSchedules as schedule.xml\n",
    "# # ptschedule = ptschedule_root.getroot()\n",
    "# xmlstr = minidom.parseString(ET.tostring(ptschedule_root)).toprettyxml(indent=\"\\t\")\n",
    "# with open(\"transit_schedule.xml\", \"w\") as f:\n",
    "#     f.write(xmlstr)\n",
    "\n",
    "# # save the modified matsim_network as road_network.xml\n",
    "# # roadnetwork = network_root.getroot()\n",
    "# xmlstr = minidom.parseString(ET.tostring(network_root)).toprettyxml(indent=\"\\t\")\n",
    "# with open(\"road_network.xml\", \"w\") as f:\n",
    "#     f.write(xmlstr)       \n",
    "        "
   ]
  }
 ],
 "metadata": {
  "kernelspec": {
   "display_name": "Python 3",
   "language": "python",
   "name": "python3"
  },
  "language_info": {
   "codemirror_mode": {
    "name": "ipython",
    "version": 3
   },
   "file_extension": ".py",
   "mimetype": "text/x-python",
   "name": "python",
   "nbconvert_exporter": "python",
   "pygments_lexer": "ipython3",
   "version": "3.8.5"
  }
 },
 "nbformat": 4,
 "nbformat_minor": 4
}
